{
 "cells": [
  {
   "cell_type": "code",
   "execution_count": 1,
   "id": "23103440",
   "metadata": {},
   "outputs": [
    {
     "name": "stdout",
     "output_type": "stream",
     "text": [
      "2\n",
      "Harsh 25 26.5 28\n",
      "Anurag 26 28 30\n",
      "Harsh\n",
      "26.50\n"
     ]
    }
   ],
   "source": [
    "#Code1 : Percentage Challenge\n",
    "if __name__ == '__main__':\n",
    "\n",
    "    n = int(input())\n",
    "\n",
    "    student_marks = {}\n",
    "\n",
    "    for _ in range(n):\n",
    "\n",
    "        name, *line = input().split()\n",
    "\n",
    "        scores = list(map(float, line))\n",
    "\n",
    "        student_marks[name] = scores\n",
    "\n",
    "    query_name = input()\n",
    "\n",
    "    l1 = list(student_marks[query_name]) \n",
    "\n",
    "    addition = sum(l1)\n",
    "\n",
    "    result = addition/len(l1)\n",
    "\n",
    "    print('%.2f'% result)"
   ]
  },
  {
   "cell_type": "code",
   "execution_count": 2,
   "id": "9e8694b7",
   "metadata": {},
   "outputs": [
    {
     "name": "stdout",
     "output_type": "stream",
     "text": [
      "this is a string   \n",
      "this-is-a-string---\n"
     ]
    }
   ],
   "source": [
    "# Code 2:- Sring split and join\n",
    "\n",
    "def split_and_join(line):\n",
    "    a = line.split(\" \")\n",
    "    b = \"-\".join(a)\n",
    "    return (b)\n",
    "\n",
    "if __name__ == '__main__':\n",
    "    line = input()\n",
    "    result = split_and_join(line)\n",
    "    print(result)"
   ]
  },
  {
   "cell_type": "code",
   "execution_count": 3,
   "id": "931bfae8",
   "metadata": {},
   "outputs": [
    {
     "name": "stdout",
     "output_type": "stream",
     "text": [
      "9\n",
      "1 2 3 4 5 6 7 8 9\n",
      "9\n",
      "10 1 2 3 11 21 55 6 8\n",
      "5\n"
     ]
    }
   ],
   "source": [
    "# Code 3:- Set intersection operation \n",
    "\n",
    "num1 = int(input())\n",
    "setA = set(map(int, input().split()))\n",
    "num2 = int(input())\n",
    "setB = set(map(int, input().split()))\n",
    "\n",
    "print(len(setA.intersection(setB)))"
   ]
  },
  {
   "cell_type": "code",
   "execution_count": 4,
   "id": "57481b4f",
   "metadata": {},
   "outputs": [
    {
     "name": "stdout",
     "output_type": "stream",
     "text": [
      "5\n",
      "2 3 6 6 5\n",
      "5\n"
     ]
    }
   ],
   "source": [
    "# Code 4:- Find the runner-up\n",
    "\n",
    "if __name__ == '__main__':\n",
    "    n = int(input())\n",
    "    arr = map(int, input().split())\n",
    "    arr2 = list(set(arr))\n",
    "    arr2.sort()\n",
    "    print(arr2[-2]) "
   ]
  },
  {
   "cell_type": "code",
   "execution_count": 5,
   "id": "64ab0d88",
   "metadata": {},
   "outputs": [
    {
     "name": "stdout",
     "output_type": "stream",
     "text": [
      "\"Pythonist 2\"\n",
      "\"pYTHONIST 2\"\n"
     ]
    }
   ],
   "source": [
    "# Code 5:- Swap-case\n",
    "\n",
    "def swap_case(s):\n",
    "    string = \"\"\n",
    "\n",
    "    for i in s:\n",
    "\n",
    "        if i.isupper() == True:\n",
    "\n",
    "            string+=(i.lower())\n",
    "\n",
    "        else:\n",
    "\n",
    "            string+=(i.upper())\n",
    "\n",
    "    return string\n",
    "\n",
    "   \n",
    "if __name__ == '__main__':\n",
    "    s = input()\n",
    "    result = swap_case(s)\n",
    "    print(result)"
   ]
  },
  {
   "cell_type": "code",
   "execution_count": 6,
   "id": "704e821c",
   "metadata": {},
   "outputs": [
    {
     "name": "stdout",
     "output_type": "stream",
     "text": [
      "3\n",
      "2\n",
      "5\n",
      "1\n",
      "6\n"
     ]
    }
   ],
   "source": [
    "# Code-6 :- Arithmetic operators \n",
    "\n",
    "if __name__ == '__main__':\n",
    "    a = int(input())\n",
    "    b = int(input())\n",
    "    print(a+b)\n",
    "    print(a-b)\n",
    "    print(a*b)"
   ]
  },
  {
   "cell_type": "code",
   "execution_count": 7,
   "id": "c738ec52",
   "metadata": {},
   "outputs": [
    {
     "name": "stdout",
     "output_type": "stream",
     "text": [
      "4\n",
      "3\n",
      "1\n",
      "1.3333333333333333\n"
     ]
    }
   ],
   "source": [
    "# Code-7 Python Division \n",
    "\n",
    "if __name__ == '__main__':\n",
    "    a = int(input())\n",
    "    b = int(input())\n",
    "    print(a//b)\n",
    "    print(a/b)\n",
    "    "
   ]
  },
  {
   "cell_type": "code",
   "execution_count": 8,
   "id": "99cdf2ba",
   "metadata": {},
   "outputs": [
    {
     "name": "stdout",
     "output_type": "stream",
     "text": [
      "24\n",
      "Not Weird\n"
     ]
    }
   ],
   "source": [
    "# Code 8:- If-else\n",
    "\n",
    "if __name__ == '__main__':\n",
    "    \n",
    "    n = int(input().strip())\n",
    "    \n",
    "    if n%2 != 0:\n",
    "        print(\"Weird\")\n",
    "    elif n%2 == 0 and n>2 and n<=5:\n",
    "        print(\"Not Weird\")\n",
    "    elif n%2 ==0 and n > 6 and n <=20:\n",
    "        print(\"Weird\")\n",
    "    else:\n",
    "        print(\"Not Weird\")"
   ]
  },
  {
   "cell_type": "code",
   "execution_count": 9,
   "id": "8100476d",
   "metadata": {},
   "outputs": [
    {
     "name": "stdout",
     "output_type": "stream",
     "text": [
      "5\n",
      "harry\n",
      "37.21\n",
      "berry\n",
      "37.21\n",
      "tina\n",
      "37.2\n",
      "akriti\n",
      "41\n",
      "harsh \n",
      "39\n",
      "berry\n",
      "harry\n"
     ]
    }
   ],
   "source": [
    "# Code-9 Nested Lists\n",
    "\n",
    "if __name__ == '__main__':\n",
    "    alist=[]\n",
    "    for _ in range(int(input())):\n",
    "        name = input()\n",
    "        score = float(input())\n",
    "        alist.append([name, score])\n",
    "    second_highest = sorted(set([score for name, score in alist]))[1]\n",
    "    print('\\n'.join(sorted([name for name, score in alist if score == second_highest])))"
   ]
  },
  {
   "cell_type": "code",
   "execution_count": 10,
   "id": "fd150762",
   "metadata": {},
   "outputs": [
    {
     "name": "stdout",
     "output_type": "stream",
     "text": [
      "5\n",
      "0\n",
      "1\n",
      "4\n",
      "9\n",
      "16\n"
     ]
    }
   ],
   "source": [
    "# Code 10:- Loops\n",
    "\n",
    "if __name__ == '__main__':\n",
    "    n = int(input())\n",
    "    for i in range(n):\n",
    "        print(i*i)"
   ]
  },
  {
   "cell_type": "code",
   "execution_count": 12,
   "id": "804432d9",
   "metadata": {},
   "outputs": [
    {
     "name": "stdout",
     "output_type": "stream",
     "text": [
      "1990\n",
      "False\n"
     ]
    }
   ],
   "source": [
    "# Code 11:- Function \n",
    "\n",
    "def is_leap(year):\n",
    "    leap = False\n",
    "    \n",
    "    if year%400==0 :\n",
    "        leap = True\n",
    "    elif year%4 == 0 and year%100 != 0:\n",
    "        leap = True\n",
    "   \n",
    "\n",
    "    \n",
    "    return leap\n",
    "\n",
    "year = int(input())\n",
    "print(is_leap(year))"
   ]
  },
  {
   "cell_type": "code",
   "execution_count": 13,
   "id": "a44dea0b",
   "metadata": {},
   "outputs": [
    {
     "name": "stdout",
     "output_type": "stream",
     "text": [
      "ABCDCDC\n",
      "CDC\n",
      "2\n"
     ]
    }
   ],
   "source": [
    "# Code-12 Find a string\n",
    "\n",
    "def count_substring(string, sub_string):\n",
    "    total = 0\n",
    "    for i in range(len(string)):\n",
    "        if string[i:len(string)].startswith(sub_string):\n",
    "            total += 1\n",
    "    return total\n",
    "    \n",
    "\n",
    "if __name__ == '__main__':\n",
    "    string = input().strip()\n",
    "    sub_string = input().strip()\n",
    "    \n",
    "    count = count_substring(string, sub_string)\n",
    "    print(count)"
   ]
  },
  {
   "cell_type": "code",
   "execution_count": 16,
   "id": "f9b2c0a9",
   "metadata": {},
   "outputs": [
    {
     "name": "stdout",
     "output_type": "stream",
     "text": [
      "12\n",
      "insert 0 5\n",
      "insert 1 10\n",
      "insert 0 6\n",
      "print\n",
      "[6, 5, 10]\n",
      "remove 6\n",
      "append 9\n",
      "append 1\n",
      "sort\n",
      "print\n",
      "[1, 5, 9, 10]\n",
      "pop\n",
      "reverse\n",
      "print\n",
      "[9, 5, 1]\n"
     ]
    }
   ],
   "source": [
    "# Code 13 :- Lists\n",
    "\n",
    "if __name__ == '__main__':\n",
    "    N = int(input())\n",
    "\n",
    "    List=[];\n",
    "\n",
    "    for i in range(N):\n",
    "\n",
    "        command=input().split();\n",
    "\n",
    "        if command[0] == \"insert\":\n",
    "\n",
    "            List.insert(int(command[1]),int(command[2]))\n",
    "\n",
    "        elif command[0] == \"append\":\n",
    "\n",
    "            List.append(int(command[1]))\n",
    "\n",
    "        elif command[0] == \"pop\":\n",
    "\n",
    "            List.pop();\n",
    "\n",
    "        elif command[0] == \"print\":\n",
    "\n",
    "            print(List)\n",
    "\n",
    "        elif command[0] == \"remove\":\n",
    "\n",
    "            List.remove(int(command[1]))\n",
    "\n",
    "        elif command[0] == \"sort\":\n",
    "\n",
    "            List.sort();\n",
    "\n",
    "        else:\n",
    "\n",
    "            List.reverse();\n"
   ]
  },
  {
   "cell_type": "code",
   "execution_count": null,
   "id": "fae93acb",
   "metadata": {},
   "outputs": [],
   "source": []
  }
 ],
 "metadata": {
  "kernelspec": {
   "display_name": "Python 3 (ipykernel)",
   "language": "python",
   "name": "python3"
  },
  "language_info": {
   "codemirror_mode": {
    "name": "ipython",
    "version": 3
   },
   "file_extension": ".py",
   "mimetype": "text/x-python",
   "name": "python",
   "nbconvert_exporter": "python",
   "pygments_lexer": "ipython3",
   "version": "3.10.9"
  }
 },
 "nbformat": 4,
 "nbformat_minor": 5
}
